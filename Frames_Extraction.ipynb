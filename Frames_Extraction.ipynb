{
  "nbformat": 4,
  "nbformat_minor": 0,
  "metadata": {
    "colab": {
      "provenance": [],
      "authorship_tag": "ABX9TyNL4hFlkoooTiSXlBUj64vo",
      "include_colab_link": true
    },
    "kernelspec": {
      "name": "python3",
      "display_name": "Python 3"
    },
    "language_info": {
      "name": "python"
    }
  },
  "cells": [
    {
      "cell_type": "markdown",
      "metadata": {
        "id": "view-in-github",
        "colab_type": "text"
      },
      "source": [
        "<a href=\"https://colab.research.google.com/github/Shayankr/Video-Face-Recognition/blob/shayan_commit/Frames_Extraction.ipynb\" target=\"_parent\"><img src=\"https://colab.research.google.com/assets/colab-badge.svg\" alt=\"Open In Colab\"/></a>"
      ]
    },
    {
      "cell_type": "markdown",
      "source": [
        "Here, I have a video to analyze face-recognition model performance.\n",
        "\n",
        "## Step-1: Extracting pictures/Images frame by frame from video."
      ],
      "metadata": {
        "id": "xuSJUXF4amA8"
      }
    },
    {
      "cell_type": "markdown",
      "source": [
        "`Note: How to find the specific frame-rate?`"
      ],
      "metadata": {
        "id": "mYIWhYhGa9-H"
      }
    },
    {
      "cell_type": "markdown",
      "source": [
        "For this, later I will decide, during imporovement of accuracy of the designed model. Then, I will take help of various state-of-the art methods used in object-tracking kind of problems.\n",
        "\n",
        "So, later I will change frame rate to the best value."
      ],
      "metadata": {
        "id": "MyqejTR0bDFU"
      }
    },
    {
      "cell_type": "code",
      "execution_count": 1,
      "metadata": {
        "id": "OlWps8gzZymz"
      },
      "outputs": [],
      "source": [
        "# set a particular frame-rate:\n",
        "frame_rate = 4 #fps\n",
        "\n",
        "# frame_interval = default_frame_rate/frame_rate"
      ]
    },
    {
      "cell_type": "code",
      "source": [
        "# importing some necessary libraries\n",
        "import cv2   # for image processing tasks\n",
        "import os # for file related tasks"
      ],
      "metadata": {
        "id": "1udbwKpfctGc"
      },
      "execution_count": 2,
      "outputs": []
    },
    {
      "cell_type": "markdown",
      "source": [
        "Define a function with parameters (video file path, output_folder and frame_rate) results a collection of frames/images inside output_folder."
      ],
      "metadata": {
        "id": "5a2pO4YOc_ie"
      }
    },
    {
      "cell_type": "markdown",
      "source": [
        "Images are named as: frame_1, frame_2, frame_3,........., frame_10, frame_12, frame_13, ........ so on."
      ],
      "metadata": {
        "id": "mn8iXgjWd4Ba"
      }
    },
    {
      "cell_type": "code",
      "source": [
        "# define a function\n",
        "\n",
        "def extract_frames_from_video(video_path, output_folder, frame_rate):\n",
        "\n",
        "    # Create output folder if it doesn't exist\n",
        "    if not os.path.exists(output_folder):\n",
        "        os.makedirs(output_folder)\n",
        "\n",
        "    # Open the video file\n",
        "    video_capture = cv2.VideoCapture(video_path)\n",
        "\n",
        "    # Get the default frame rate of the video\n",
        "    default_frame_rate = video_capture.get(cv2.CAP_PROP_FPS)\n",
        "    # Print the frame rate\n",
        "    print(\"Default frame rate:\", default_frame_rate)\n",
        "\n",
        "    frame_interval = default_frame_rate//frame_rate\n",
        "\n",
        "    success, frame = video_capture.read()\n",
        "    count = 0\n",
        "    frame_index = 1\n",
        "\n",
        "    while success:\n",
        "        # Extract frames at the specified frame rate\n",
        "        if count % frame_interval == 0:\n",
        "            frame_path = os.path.join(output_folder, f\"frame_{frame_index}.jpg\")\n",
        "            cv2.imwrite(frame_path, frame)\n",
        "            frame_index += 1\n",
        "\n",
        "        success, frame = video_capture.read()\n",
        "        count += 1\n",
        "\n",
        "    video_capture.release()\n",
        "    print(f\"Frames are extracted successfully, frame_gap={frame_interval}, fps={frame_rate}\")\n",
        "\n",
        "# Destroy all the windows\n",
        "# cv2.destroyAllWindows()\n"
      ],
      "metadata": {
        "id": "ySw1OAnybsnj"
      },
      "execution_count": 3,
      "outputs": []
    },
    {
      "cell_type": "markdown",
      "source": [
        "Mount G-drive (to get video)"
      ],
      "metadata": {
        "id": "ljCVoEBbmeJc"
      }
    },
    {
      "cell_type": "code",
      "source": [
        "from google.colab import drive\n",
        "drive.mount('/content/drive')\n"
      ],
      "metadata": {
        "colab": {
          "base_uri": "https://localhost:8080/"
        },
        "id": "-jfZ40xVmA5c",
        "outputId": "6c81ad33-d04c-4eec-ef91-05f289f7a206"
      },
      "execution_count": 4,
      "outputs": [
        {
          "output_type": "stream",
          "name": "stdout",
          "text": [
            "Drive already mounted at /content/drive; to attempt to forcibly remount, call drive.mount(\"/content/drive\", force_remount=True).\n"
          ]
        }
      ]
    },
    {
      "cell_type": "code",
      "source": [
        "!pwd #present working directory"
      ],
      "metadata": {
        "colab": {
          "base_uri": "https://localhost:8080/"
        },
        "id": "VII42rM0m7n6",
        "outputId": "b8fddab4-9705-4735-83e9-2366a0cb121b"
      },
      "execution_count": 5,
      "outputs": [
        {
          "output_type": "stream",
          "name": "stdout",
          "text": [
            "/content\n"
          ]
        }
      ]
    },
    {
      "cell_type": "code",
      "source": [
        "dataset_path = \"/content/drive/MyDrive/mtp_24/datasets/\""
      ],
      "metadata": {
        "id": "TI2psJYwnPtX"
      },
      "execution_count": 6,
      "outputs": []
    },
    {
      "cell_type": "code",
      "source": [
        "# cd /content/drive/MyDrive/mtp_24/datasets"
      ],
      "metadata": {
        "id": "4e_QSjQnnX-x"
      },
      "execution_count": 7,
      "outputs": []
    },
    {
      "cell_type": "markdown",
      "source": [
        "video_duration = 08min 50sec"
      ],
      "metadata": {
        "id": "U_tZKhNMr4sp"
      }
    },
    {
      "cell_type": "code",
      "source": [
        "# Specify the path to the video file\n",
        "video_path = \"/content/drive/MyDrive/mtp_24/datasets/Video_Om_Shanti_Om.mp4\"\n",
        "\n",
        "# Specify the output folder to save the frames\n",
        "# output_folder = dataset_path+\"output_frames/\"\n",
        "# output_folder = f\"{dataset_path}output_frames_{frame_rate}/\"\n",
        "output_folder = dataset_path+\"output_frames_\"+f\"{frame_rate}\"\n",
        "\n",
        "\n",
        "# Specify the frame rate at which to extract frames (e.g., extract 4 frame per second)\n",
        "frame_rate = 4\n",
        "\n",
        "# Call the function to extract frames from the video\n",
        "extract_frames_from_video(video_path, output_folder, frame_rate)\n"
      ],
      "metadata": {
        "colab": {
          "base_uri": "https://localhost:8080/"
        },
        "id": "1c4cBLG3kAbS",
        "outputId": "8946287c-a06d-4940-9c43-ba0451f289f2"
      },
      "execution_count": 8,
      "outputs": [
        {
          "output_type": "stream",
          "name": "stdout",
          "text": [
            "Default frame rate: 25.00198084055554\n",
            "Frames are extracted successfully, frame_gap=6.0, fps=4\n"
          ]
        }
      ]
    },
    {
      "cell_type": "code",
      "source": [
        "cd \"/content/drive/MyDrive/mtp_24/datasets/\""
      ],
      "metadata": {
        "colab": {
          "base_uri": "https://localhost:8080/"
        },
        "id": "XAORpUdOoUdv",
        "outputId": "109889a4-3355-404c-a97b-57ca54b30977"
      },
      "execution_count": 9,
      "outputs": [
        {
          "output_type": "stream",
          "name": "stdout",
          "text": [
            "/content/drive/MyDrive/mtp_24/datasets\n"
          ]
        }
      ]
    },
    {
      "cell_type": "code",
      "source": [
        "pwd"
      ],
      "metadata": {
        "colab": {
          "base_uri": "https://localhost:8080/",
          "height": 35
        },
        "id": "6_XbbiJwpiwX",
        "outputId": "373e4989-923a-4d8b-853c-c22ba5d492c5"
      },
      "execution_count": 10,
      "outputs": [
        {
          "output_type": "execute_result",
          "data": {
            "text/plain": [
              "'/content/drive/MyDrive/mtp_24/datasets'"
            ],
            "application/vnd.google.colaboratory.intrinsic+json": {
              "type": "string"
            }
          },
          "metadata": {},
          "execution_count": 10
        }
      ]
    },
    {
      "cell_type": "code",
      "source": [
        "ls"
      ],
      "metadata": {
        "colab": {
          "base_uri": "https://localhost:8080/"
        },
        "id": "8fu7rkKLpjq6",
        "outputId": "e7194c00-3d6e-4ecb-ae80-0d74c9ac5aba"
      },
      "execution_count": 11,
      "outputs": [
        {
          "output_type": "stream",
          "name": "stdout",
          "text": [
            "\u001b[0m\u001b[01;34moutput_frames\u001b[0m/  \u001b[01;34moutput_frames_4\u001b[0m/  Video_Om_Shanti_Om.mp4\n"
          ]
        }
      ]
    },
    {
      "cell_type": "code",
      "source": [
        "cd output_frames_4/"
      ],
      "metadata": {
        "colab": {
          "base_uri": "https://localhost:8080/"
        },
        "id": "bCjxQ5TFpk_B",
        "outputId": "6a13d3c5-9977-4484-e054-298fd59dc407"
      },
      "execution_count": 12,
      "outputs": [
        {
          "output_type": "stream",
          "name": "stdout",
          "text": [
            "/content/drive/MyDrive/mtp_24/datasets/output_frames_4\n"
          ]
        }
      ]
    },
    {
      "cell_type": "code",
      "source": [
        "ls -l | wc -l"
      ],
      "metadata": {
        "colab": {
          "base_uri": "https://localhost:8080/"
        },
        "id": "lAb5N9R8pnw1",
        "outputId": "3076632b-ad5f-4e30-c9ea-48a83bc4b73e"
      },
      "execution_count": 13,
      "outputs": [
        {
          "output_type": "stream",
          "name": "stdout",
          "text": [
            "2210\n"
          ]
        }
      ]
    },
    {
      "cell_type": "code",
      "source": [
        "len(os.listdir(output_folder))"
      ],
      "metadata": {
        "colab": {
          "base_uri": "https://localhost:8080/"
        },
        "id": "CodKJ8Q8ppji",
        "outputId": "78d77a9c-ee5d-482b-b54f-7f540d016eb6"
      },
      "execution_count": 14,
      "outputs": [
        {
          "output_type": "execute_result",
          "data": {
            "text/plain": [
              "2209"
            ]
          },
          "metadata": {},
          "execution_count": 14
        }
      ]
    },
    {
      "cell_type": "code",
      "source": [
        "output_folder"
      ],
      "metadata": {
        "colab": {
          "base_uri": "https://localhost:8080/",
          "height": 35
        },
        "id": "8-kn42BXqOeD",
        "outputId": "3e591b53-8370-4b9a-c96b-60b331055e12"
      },
      "execution_count": 15,
      "outputs": [
        {
          "output_type": "execute_result",
          "data": {
            "text/plain": [
              "'/content/drive/MyDrive/mtp_24/datasets/output_frames_4'"
            ],
            "application/vnd.google.colaboratory.intrinsic+json": {
              "type": "string"
            }
          },
          "metadata": {},
          "execution_count": 15
        }
      ]
    },
    {
      "cell_type": "code",
      "source": [
        "# os.listdir(output_folder)"
      ],
      "metadata": {
        "id": "MX16zZ0fuDFX"
      },
      "execution_count": 16,
      "outputs": []
    },
    {
      "cell_type": "code",
      "source": [],
      "metadata": {
        "id": "__gni1R9vDTT"
      },
      "execution_count": 16,
      "outputs": []
    },
    {
      "cell_type": "markdown",
      "source": [
        "At this point of time, I have taken 4 frames per second."
      ],
      "metadata": {
        "id": "S8ujzgN4xMKy"
      }
    },
    {
      "cell_type": "markdown",
      "source": [
        "I got total 2210 frames."
      ],
      "metadata": {
        "id": "0eCdiv1kxRGL"
      }
    },
    {
      "cell_type": "code",
      "source": [],
      "metadata": {
        "id": "yvk5sy25xLNW"
      },
      "execution_count": 16,
      "outputs": []
    }
  ]
}